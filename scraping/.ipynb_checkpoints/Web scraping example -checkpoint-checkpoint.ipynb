{
 "cells": [
  {
   "cell_type": "markdown",
   "metadata": {},
   "source": [
    "Dynamic web scraping example using selenium by Hans (h.h.sievertsen@bristol.ac.uk).\n",
    "\n",
    "Objective: Collect class sizes and save them in a csv file.\n",
    "\n",
    "First version: May 2013. \n",
    "\n",
    "This version: October 2018 (adapted to jupyter notebook).\n",
    "\n",
    "Python version: 2.7"
   ]
  },
  {
   "cell_type": "code",
   "execution_count": 1,
   "metadata": {},
   "outputs": [],
   "source": [
    "# load packages\n",
    "# selenium is used for dynamic website scraping\n",
    "from selenium import webdriver\n",
    "from selenium.webdriver.common.by import By\n",
    "import pandas as pd\n"
   ]
  },
  {
   "cell_type": "code",
   "execution_count": null,
   "metadata": {},
   "outputs": [],
   "source": [
    "# Set path to of a firefox web driver (Chrome is also possible)\n",
    "webdriver_path= 'C:\\\\Users\\\\hhsie\\\\Dropbox\\\\programming and statistics\\\\Python\\\\webdriver\\\\geckodriver.exe'\n"
   ]
  },
  {
   "cell_type": "markdown",
   "metadata": {},
   "source": [
    "Check out the website. \n",
    "Go to https://www.lectio.dk/"
   ]
  },
  {
   "cell_type": "code",
   "execution_count": null,
   "metadata": {},
   "outputs": [],
   "source": [
    "# Now attempt to open the website \n",
    "driver = webdriver.Firefox(executable_path =webdriver_path)\n",
    "driver.get(\"https://www.lectio.dk/lectio/login_list.aspx\")\n"
   ]
  },
  {
   "cell_type": "code",
   "execution_count": null,
   "metadata": {},
   "outputs": [],
   "source": [
    "# close web browser\n",
    "driver.close()"
   ]
  },
  {
   "cell_type": "code",
   "execution_count": null,
   "metadata": {},
   "outputs": [],
   "source": [
    "# Open link again and find all school links\n",
    "driver = webdriver.Firefox(executable_path =webdriver_path)\n",
    "driver.get(\"https://www.lectio.dk/lectio/login_list.aspx\")\n",
    "# find all school links\n",
    "schools = driver.find_elements_by_xpath(\"//a[@href]\")\n",
    "# loop over schools\n",
    "for s in schools:\n",
    "    print(s.get_attribute('href'))\n",
    "    "
   ]
  },
  {
   "cell_type": "code",
   "execution_count": null,
   "metadata": {},
   "outputs": [],
   "source": [
    "# visit one of these links\n",
    "schoolsite = webdriver.Firefox(executable_path =webdriver_path)\n",
    "schoolsite.get(schools[0].get_attribute('href'))"
   ]
  },
  {
   "cell_type": "code",
   "execution_count": null,
   "metadata": {},
   "outputs": [],
   "source": [
    "# find the class list\n",
    "classlink = schoolsite.find_element_by_link_text(\"Klasse\");\n",
    "classlink.click();"
   ]
  },
  {
   "cell_type": "code",
   "execution_count": null,
   "metadata": {
    "scrolled": true
   },
   "outputs": [],
   "source": [
    "#save a list of classes\n",
    "allclasses = schoolsite.find_elements_by_xpath(\"//a[contains(@href, 'klasseid')]\");\n",
    "# loop over schools\n",
    "for c in allclasses:\n",
    "    print(c.get_attribute('href'))"
   ]
  },
  {
   "cell_type": "code",
   "execution_count": null,
   "metadata": {},
   "outputs": [],
   "source": [
    "# visit one of these links\n",
    "classsite = webdriver.Firefox(executable_path =webdriver_path)\n",
    "classsite.get(allclasses[0].get_attribute('href'))"
   ]
  },
  {
   "cell_type": "code",
   "execution_count": null,
   "metadata": {},
   "outputs": [],
   "source": [
    "# Find student list\n",
    "studentlink = classsite.find_element_by_link_text(\"Elever\");\n",
    "studentlink.click();"
   ]
  },
  {
   "cell_type": "code",
   "execution_count": null,
   "metadata": {},
   "outputs": [],
   "source": [
    "# Find class size and school name\n",
    "# Find classsize\n",
    "classsize_element = classsite.find_element_by_xpath(\"//span[@id='s_m_Content_Content_additionalInfoLbl']\")\n",
    "class_size=classsize_element.text[14:]\n",
    "# Find school name\n",
    "school_element = classsite.find_element_by_xpath('//*[@id=\"s_m_masterleftDiv\"]')\n",
    "# encoding, remove line breaks etc\n",
    "school_name=school_element.text.encode('utf-8').replace('\\n', '')\n",
    "school_name=school_name[0:school_name.find(\"  20\")]\n",
    "#print\n",
    "print(\"School name: \"+school_name+\". Class size: \"+class_size)"
   ]
  },
  {
   "cell_type": "code",
   "execution_count": null,
   "metadata": {},
   "outputs": [],
   "source": [
    "#close browsers\n",
    "schoolsite.quit()\n",
    "driver.quit()\n",
    "classsite.quit()"
   ]
  },
  {
   "cell_type": "code",
   "execution_count": null,
   "metadata": {
    "scrolled": true
   },
   "outputs": [],
   "source": [
    "# Bring everything together\n",
    "# Open websites \n",
    "driver = webdriver.Firefox(executable_path =webdriver_path)\n",
    "classsite = webdriver.Firefox(executable_path = webdriver_path)\n",
    "schoolsite = webdriver.Firefox(executable_path = webdriver_path)\n",
    "\n",
    "# Empty dataframe to save results\n",
    "df = pd.DataFrame(columns=['Schoolname',\"Class_size\"])\n",
    "\n",
    "# Open website\n",
    "driver.get(\"https://www.lectio.dk/lectio/login_list.aspx\")\n",
    "# Find all schools\n",
    "schools = driver.find_elements_by_xpath(\"//a[@href]\")\n",
    "# Loop over links\n",
    "for s in schools:\n",
    "\t# open link in new browser\n",
    "\tschoolsite.get(s.get_attribute('href'))\n",
    "\t# click on classroom\n",
    "\tclasslink = schoolsite.find_element_by_link_text(\"Klasse\")\n",
    "\tclasslink.click()\n",
    "\t# find all classes\n",
    "\tallclasses = schoolsite.find_elements_by_xpath(\"//a[contains(@href, 'klasseid')]\")\n",
    "\t# Loop over classes\n",
    "\tfor c in allclasses:\n",
    "\t\tclasssite.get(c.get_attribute('href'))\n",
    "\t\t# Select students\n",
    "\t\tstudentlink = classsite.find_element_by_link_text(\"Elever\")\n",
    "\t\tstudentlink.click()\n",
    "\t\t# Find classsize\n",
    "\t\tclasssize_element = classsite.find_element_by_xpath(\"//span[@id='s_m_Content_Content_additionalInfoLbl']\")\n",
    "\t\tclass_size=classsize_element.text[14:]\n",
    "\t\t# Find schools\n",
    "\t\tschool_element = classsite.find_element_by_xpath('//*[@id=\"s_m_masterleftDiv\"]')\n",
    "\t\t# encoding, remove line breaks etc\n",
    "\t\tschool_name=school_element.text.encode('utf-8').replace('\\n', '')\n",
    "\t\tschool_name=school_name[0:school_name.find(\"  20\")]\n",
    "\t\t# Append dataframe\n",
    "\t\tdf=df.append([ pd.DataFrame([[school_name, class_size]],columns=['Schoolname',\"Class_size\"])])\n",
    "\t\t# Write to CSV\n",
    "\t\tdf.to_csv('data_output.csv', index=False)\n",
    "schoolsite.quit()\n",
    "driver.quit()\n",
    "classsite.quit()\n",
    "\n"
   ]
  }
 ],
 "metadata": {
  "kernelspec": {
   "display_name": "Python 3",
   "language": "python",
   "name": "python3"
  },
  "language_info": {
   "codemirror_mode": {
    "name": "ipython",
    "version": 3
   },
   "file_extension": ".py",
   "mimetype": "text/x-python",
   "name": "python",
   "nbconvert_exporter": "python",
   "pygments_lexer": "ipython3",
   "version": "3.7.1"
  }
 },
 "nbformat": 4,
 "nbformat_minor": 2
}
