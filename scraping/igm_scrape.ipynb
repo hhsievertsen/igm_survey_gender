{
 "cells": [
  {
   "cell_type": "markdown",
   "metadata": {},
   "source": [
    "Scraping survey responses in the igm survey\n",
    "\n",
    "First version: 21/2/ 2020. \n",
    "\n",
    "This version: \n",
    "\n",
    "Python version: 3.0"
   ]
  },
  {
   "cell_type": "code",
   "execution_count": 54,
   "metadata": {},
   "outputs": [],
   "source": [
    "# load packages\n",
    "from selenium import webdriver\n",
    "from selenium.webdriver.common.by import By\n",
    "import pandas as pd\n",
    "import numpy as np"
   ]
  },
  {
   "cell_type": "code",
   "execution_count": 9,
   "metadata": {},
   "outputs": [],
   "source": []
  },
  {
   "cell_type": "code",
   "execution_count": 53,
   "metadata": {},
   "outputs": [],
   "source": [
    "# Empty dataframe to save results\n",
    "df = pd.DataFrame(columns=['Name',\"Profile\",\"Questionnumber\",\"Questions\",\"Votes\",\"Confidence\",\"Comment\",\"Median\",\"Medianconf\"])\n",
    "\n",
    "\n",
    "# Now attempt to open the website \n",
    "webdriver_path= 'C:\\\\Users\\\\hs17922\\\\Dropbox\\\\Tools\\\\chromedriver.exe'\n",
    "overview = webdriver.Chrome(webdriver_path) \n",
    "overview.get('http://www.igmchicago.org/igm-economic-experts-panel/participants')\n",
    "\n",
    "# find panel members\n",
    "panel_member = overview.find_elements_by_xpath('//*[contains(concat( \" \", @class, \" \" ), concat( \" \", \"participant-name\", \" \" ))]//a')\n",
    "# loop over members\n",
    "for pm in panel_member:\n",
    "    main = webdriver.Chrome(webdriver_path) \n",
    "    main.get(pm.get_attribute('href'))\n",
    "    name_element = main.find_element_by_xpath('//*[contains(concat( \" \", @class, \" \" ), concat( \" \", \"bioHeader\", \" \" ))]//h2')\n",
    "    profile_element = main.find_element_by_xpath('//li')\n",
    "    # questions\n",
    "    question_element = main.find_elements_by_xpath('//h3//a')\n",
    "    quest=\"\"\n",
    "    qn=\"\"\n",
    "    count=0\n",
    "    for q in question_element:\n",
    "        count=count+1\n",
    "        qn=qn+str(count)+\";\"\n",
    "        quest=quest+q.text+\";\"\n",
    "    # votes\n",
    "    vote_element=main.find_elements_by_xpath('//td[(((count(preceding-sibling::*) + 1) = 1) and parent::*)]')\n",
    "    vot=\"\"\n",
    "    for v in vote_element:\n",
    "        vot=vot+v.text+\";\"\n",
    "    # confidence\n",
    "    conf_element=main.find_elements_by_xpath('//td[(((count(preceding-sibling::*) + 1) = 2) and parent::*)]')\n",
    "    conf=\"\"\n",
    "    for c in conf_element:\n",
    "        conf=conf+c.text+\";\"\n",
    "    # comment\n",
    "    comment_element=main.find_elements_by_xpath('//*[contains(concat( \" \", @class, \" \" ), concat( \" \", \"gridComment\", \" \" ))]')\n",
    "    com=\"\"\n",
    "    for c in comment_element:\n",
    "        com=com+c.text+\";\"\n",
    "    # medianvot\n",
    "    median_element=main.find_elements_by_xpath('//td[(((count(preceding-sibling::*) + 1) = 4) and parent::*)]')\n",
    "    med=\"\"\n",
    "    for m in median_element:\n",
    "        med=med+m.text+\";\"    \n",
    "    # medconv\n",
    "    medianconf_element=main.find_elements_by_xpath('//td[(((count(preceding-sibling::*) + 1) = 5) and parent::*)]')\n",
    "    medc=\"\"\n",
    "    for m in medianconf_element:\n",
    "        medc=medc+m.text+\";\"    \n",
    "    # add to dataframe\n",
    "    df=df.append([ pd.DataFrame([[name_element.text, profile_element.text,qn,quest,vot,conf,com,med,medc]], columns=['Name',\"Profile\",\"Questionnumber\",\"Questions\",\"Votes\",\"Confidence\",\"Comment\",\"Median\",\"Medianconf\"])])\n",
    "    main.close()\n",
    "# write\n",
    "df.to_csv('data_output.csv', index=False)\n",
    "profile.quit()\n",
    "main.quit()"
   ]
  },
  {
   "cell_type": "code",
   "execution_count": 59,
   "metadata": {},
   "outputs": [],
   "source": [
    "df.to_csv('data_output1.csv',sep=\"|\", index=False)"
   ]
  },
  {
   "cell_type": "code",
   "execution_count": null,
   "metadata": {},
   "outputs": [],
   "source": []
  }
 ],
 "metadata": {
  "kernelspec": {
   "display_name": "Python 3",
   "language": "python",
   "name": "python3"
  },
  "language_info": {
   "codemirror_mode": {
    "name": "ipython",
    "version": 3
   },
   "file_extension": ".py",
   "mimetype": "text/x-python",
   "name": "python",
   "nbconvert_exporter": "python",
   "pygments_lexer": "ipython3",
   "version": "3.7.4"
  }
 },
 "nbformat": 4,
 "nbformat_minor": 2
}
